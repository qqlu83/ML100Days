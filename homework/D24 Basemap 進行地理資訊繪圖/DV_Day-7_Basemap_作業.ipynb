{
 "cells": [
  {
   "cell_type": "markdown",
   "metadata": {
    "colab_type": "text",
    "id": "rzNvDCK8NH-Q"
   },
   "source": [
    "# 目標: \n",
    " \n",
    " 安裝Basemap, 並且可以使用它繪製地理資訊. 這個教程中，我們將涉及地理繪圖module: Basemap。Basemap是Matplotlib的擴展.\n",
    "\n",
    "# 重點:\n",
    " Basemap 在地圖集上的擴展應用\n",
    " \n",
    "\n",
    "# 作業:\n",
    "\n",
    " 1. 更改 Projection 的設定繪製出地球儀圖形\n",
    " \n",
    " 當 \"projection\" 參數為“ortho\"時，所得圖位地球儀截面\n",
    " \n",
    " 當 \"projection\" 參數為“Mill\"時，所得平展位面\n",
    " \n",
    " \n",
    " 2. 查看 resolution / 經緯度座標的繪圖精細度\n",
    " \n",
    " "
   ]
  },
  {
   "cell_type": "code",
   "execution_count": null,
   "metadata": {},
   "outputs": [],
   "source": [
    "# 載入套件\n",
    "from mpl_toolkits.basemap import Basemap\n",
    "import matplotlib.pyplot as plt\n",
    "import numpy as np"
   ]
  },
  {
   "cell_type": "code",
   "execution_count": null,
   "metadata": {},
   "outputs": [],
   "source": [
    "# 創建基本地圖。\n",
    "# 當 \"projection\" 參數為“ortho\"時，所得圖位地球儀截面\n",
    "'''\n",
    "#由此開始寫code \n",
    "\n",
    "#設定圖形大小\n",
    "plt.figure(...)\n",
    "\n",
    "#設定投影型態\n",
    "m=Basemap(....)\n",
    "\n",
    "#設定圖形顏色, 選用NASA 寶石藍輸出 \n",
    "m.bluemarble()\n",
    "\n",
    "#秀圖\n",
    "plt.show()\n",
    "'''\n",
    "\n",
    "plt.figure(figsize=(8, 8), edgecolor='w')\n",
    "m = Basemap(projection='ortho', resolution=None,\n",
    "            lat_0=0, lon_0=0)\n",
    "m.bluemarble()\n",
    "plt.show()\n"
   ]
  },
  {
   "cell_type": "code",
   "execution_count": null,
   "metadata": {},
   "outputs": [],
   "source": [
    "'''\n",
    "由此開始寫code \n",
    "\n",
    "#設置Lambert保形底圖。\n",
    "# width=12000000,height=9000000\n",
    "#經緯度lat_1=45.,lat_2=55,lat_0=50,lon_0=-107\n",
    "#set resolution = None跳過邊界數據集的處理\n",
    "# projection='lcc'\n",
    "\n",
    "m = Basemap(....)\n",
    "\n",
    "#選用NASA 寶石藍輸出 \n",
    "m.bluemarble()\n",
    "\n",
    "#秀圖\n",
    "plt.show()\n",
    "'''\n",
    "m = Basemap(projection='lcc', resolution=None,width=12000000,height=9000000,\n",
    "            lat_0=50, lon_0=-107,lat_1=45.,lat_2=55)\n",
    "m.bluemarble()\n",
    "plt.show()"
   ]
  },
  {
   "cell_type": "code",
   "execution_count": null,
   "metadata": {},
   "outputs": [],
   "source": [
    "'''\n",
    "由此開始寫code \n",
    "#  \"projection\" 參數為“Mill\"\n",
    "# 設定經緯座標\n",
    "# 左下角的緯度 - llcrnrlat = -90,\n",
    "# 左下角的經度 - llcrnrlon = -180,\n",
    "# 右上角的緯度 - urcrnrlat = 90,\n",
    "# 右上角的經度 -urcrnrlon = 180\n",
    "\n",
    "# 成圖設定resolution\n",
    "\n",
    "m = Basemap() # 成圖設定resolution \n",
    "\n",
    "#創建邊線\n",
    "m.drawcoastlines()\n",
    "#畫出國家，並使用線寬為2 的線條生成分界線。\n",
    "m.drawcountries()\n",
    "#畫出州界\n",
    "m.drawstates(color='b')\n",
    "#畫出城市\n",
    "m.drawcounties(color='darkred')\n",
    "\n",
    "plt.title('Basemap Tutorial')\n",
    "plt.show()\n",
    "\n",
    "'''\n",
    "m = Basemap(projection='mill',\n",
    "            llcrnrlat = -90,\n",
    "            llcrnrlon = -180,\n",
    "            urcrnrlat = 90,\n",
    "            urcrnrlon = 180)\n",
    "\n",
    "m.drawcoastlines()\n",
    "m.drawcountries(linewidth=2)\n",
    "m.drawstates(color='b')\n",
    "m.drawcounties(color='darkred')\n",
    "\n",
    "plt.title('Basemap Tutorial')\n",
    "plt.show()"
   ]
  },
  {
   "cell_type": "code",
   "execution_count": null,
   "metadata": {},
   "outputs": [],
   "source": []
  },
  {
   "cell_type": "code",
   "execution_count": null,
   "metadata": {},
   "outputs": [],
   "source": []
  }
 ],
 "metadata": {
  "colab": {
   "collapsed_sections": [],
   "name": "Basemap.ipynb",
   "provenance": []
  },
  "kernelspec": {
   "display_name": "Python 3",
   "language": "python",
   "name": "python3"
  },
  "language_info": {
   "codemirror_mode": {
    "name": "ipython",
    "version": 3
   },
   "file_extension": ".py",
   "mimetype": "text/x-python",
   "name": "python",
   "nbconvert_exporter": "python",
   "pygments_lexer": "ipython3",
   "version": "3.8.3"
  }
 },
 "nbformat": 4,
 "nbformat_minor": 1
}
