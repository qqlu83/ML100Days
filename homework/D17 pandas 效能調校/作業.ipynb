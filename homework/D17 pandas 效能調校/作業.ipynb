{
 "cells": [
  {
   "cell_type": "code",
   "execution_count": null,
   "metadata": {},
   "outputs": [],
   "source": [
    "作業目標:\n",
    "• 了解效能優化方法\n",
    "\n",
    "作業重點:\n",
    "• 優化有很多面相可以切入，目前可以先以投影片方法為主\n",
    "\n",
    "作業題目\n",
    "1. 在速度較慢的時候，可以先從哪邊開始檢查?\n",
    "2. 資料過大時應採取什麼方式讓記憶體占用量下降?"
   ]
  },
  {
   "cell_type": "code",
   "execution_count": 1,
   "metadata": {},
   "outputs": [],
   "source": [
    "#1. 在速度較慢的時候，可以先從哪邊開始檢查?\n",
    "\n",
    "#若是讀取資料型態選最快速的pkl，檢查使用內建函數如： groupby+agg、isin()、向量化的資料處理將欄位的型態降級\n"
   ]
  },
  {
   "cell_type": "code",
   "execution_count": 2,
   "metadata": {},
   "outputs": [],
   "source": [
    "#2. 資料過大時應採取什麼方式讓記憶體占用量下降?\n",
    "\n",
    "#將欄位的型態降級，減少記憶體使用空間\n"
   ]
  },
  {
   "cell_type": "code",
   "execution_count": null,
   "metadata": {},
   "outputs": [],
   "source": []
  }
 ],
 "metadata": {
  "kernelspec": {
   "display_name": "Python 3",
   "language": "python",
   "name": "python3"
  },
  "language_info": {
   "codemirror_mode": {
    "name": "ipython",
    "version": 3
   },
   "file_extension": ".py",
   "mimetype": "text/x-python",
   "name": "python",
   "nbconvert_exporter": "python",
   "pygments_lexer": "ipython3",
   "version": "3.8.5"
  }
 },
 "nbformat": 4,
 "nbformat_minor": 4
}
